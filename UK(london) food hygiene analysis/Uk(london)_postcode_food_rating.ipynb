{
 "cells": [
  {
   "cell_type": "markdown",
   "metadata": {},
   "source": [
    "#  UK Food Hygiene Rating Data (London) \n",
    "\n",
    "Food Hygiene Rating of Business in Boroughs of London in United Kingdom"
   ]
  },
  {
   "cell_type": "markdown",
   "metadata": {},
   "source": [
    "\n",
    "### Table of Contents\n",
    "1. Introduction(about the data)\n",
    "2. load the data\n",
    "3. Analysis and visualizations\n",
    "4. Summary and Conclusion\n"
   ]
  },
  {
   "cell_type": "markdown",
   "metadata": {},
   "source": [
    "\n",
    "### 1. Introduction (About the data)\n",
    "\n",
    "1. The FHRS, which applies in England, Wales and Northern Ireland, is a Food \n",
    "Standards Agency (FSA)/local authority partnership initiative. A different \n",
    "scheme – the Food Hygiene Information Scheme, operates in Scotland. The \n",
    "FHRS operates on a voluntary basis in England and on a statutory basis in \n",
    "Wales and Northern Ireland.\n",
    "\n",
    "\n",
    "2. The scheme provides consumers with information about hygiene standards in \n",
    "food business establishments at the time they are inspected to check \n",
    "compliance with legal requirements on food hygiene. The food hygiene rating \n",
    "reflects the inspection findings. The basis for this is the ‘food hygiene \n",
    "intervention rating scheme’, as set out in the Food Law Code of Practice\n",
    "(England).\n",
    "\n",
    "\n",
    "3. The purpose of the FHRS is to allow consumers to make informed decisions \n",
    "about the places they eat out or shop for food and, through these decisions, \n",
    "encourage businesses to improve their hygiene standards. The overarching \n",
    "aim is to reduce the incidence of food-borne illness and the associated costs to \n",
    "the economy.\n",
    "\n",
    "\n",
    "4. There are six different food hygiene ratings (‘0’ up to ‘5’) - the top rating \n",
    "represents a ‘very good’ level of compliance with legal requirements. All \n",
    "businesses irrespective of the nature or size of their operation should be able to \n",
    "achieve this. Food hygiene ratings are published at food.gov.uk/ratings and \n",
    "businesses are encouraged to display stickers showing their food hygiene \n",
    "ratings at their premises where consumers can easily see them.\n",
    "\n",
    "\n",
    "5. The FHRS incorporates safeguards to ensure fairness to businesses. This \n",
    "includes an appeal procedure and a ‘right to reply’ for publication (together with \n",
    "the food hygiene rating). These are published at food.gov.uk/ratings, alongside\n",
    "a mechanism for requesting a inspection/re-visit for re-rating when \n",
    "improvements have been made.\n"
   ]
  },
  {
   "cell_type": "markdown",
   "metadata": {},
   "source": [
    "\n",
    "#### 1.1 Local authority guidance - the FHRS Brand Standard:\n",
    "\n",
    " This Guidance is endorsed by the Food Hygiene Ratings Steering Group and is \n",
    "presented in a question & answer (Q&A) format. It covers all aspects of \n",
    "implementation and operation of the FHRS. This includes:\n",
    "• Formal partnership agreements (Section 1)\n",
    "\n",
    "• Scope (Section 2)\n",
    "\n",
    "• Scoring using the food hygiene intervention rating scheme set out in the \n",
    "Food Law Code of Practice (England), (Section 3)\n",
    "\n",
    "• Mapping of intervention rating scores to the food hygiene rating (Section 4)\n",
    "\n",
    "• Notification of food hygiene ratings (Section 5)\n",
    "\n",
    "• Appeals (Section 6)\n",
    "\n",
    "• ‘Right to reply’ (Section 7)\n",
    "\n",
    "• Requests for re-inspections/re-visits for re-rating purposes (Section 8)\n",
    "\n",
    "• Use of Food Hygiene Rating Scheme branding (Section 9)\n",
    "\n",
    "• Use of the Food Hygiene Rating Scheme IT platform (Section 10)\n",
    "\n",
    "• Establishing and operating a Consistency Framework (Section 11).\n",
    "\n",
    "#### 1.2 Resource materials:\n",
    "\n",
    "a. The FSA has developed a range of resources to help local authorities \n",
    "implement and operate the FHRS. These are updated regularly to reflect \n",
    "feedback from local authorities and any relevant developments and will be \n",
    "supplemented as necessary on an ongoing basis.\n",
    "\n",
    "b. The current range of resources includes:\n",
    "\n",
    "• Communications Toolkits - these are issued to coincide with campaigns \n",
    "and seasonal events to provide advice and guidance on promoting the \n",
    "FHRS at the local level and generally include template press releases and \n",
    "details of other promotional materials.\n",
    "\n",
    "• Information for businesses - ‘how to’ guide to help businesses use their \n",
    "rating as a marketing tool.\n",
    "\n",
    "• Standard forms - inspection form, appeal form, ‘right to reply’ form, request \n",
    "for a re-visit form, and early publication form.\n",
    "\n",
    "• Standard website text - this provides local businesses and local \n",
    "consumers with information on the scheme, and also advice to businesses \n",
    "about improving their ratings.\n",
    "\n",
    "• User Documentation for the IT platform - guidance to help local \n",
    "authorities upload data to the website and to run reports on this.\n",
    "\n",
    "• Top tips - these are issued with the aim of improving and maintaining data \n",
    "accuracy and consistency of application of the Brand Standard.\n",
    "\n",
    "• Consistency training materials - materials used for national consistency \n",
    "exercises are available for use with new officers or contractors. "
   ]
  },
  {
   "cell_type": "markdown",
   "metadata": {},
   "source": [
    "\n",
    "#### 1.2 Importing Libraries"
   ]
  },
  {
   "cell_type": "code",
   "execution_count": 1,
   "metadata": {},
   "outputs": [],
   "source": [
    "import pandas as pd\n",
    "import matplotlib.pyplot as plt\n",
    "import seaborn as sns"
   ]
  },
  {
   "cell_type": "markdown",
   "metadata": {},
   "source": [
    "\n",
    "\n",
    "##### 1.2.1. Pandas \n",
    "\n",
    "pandas is a fast, powerful, flexible and easy to use open source data analysis and manipulation tool, built ontop of the Python programming language.\n",
    "\n",
    "##### 1.2.2. Matplotlib \n",
    "\n",
    "Matplotlib is a comprehensive library for creating static, animated, and interactive visualizations in Python. Matplotlib makes easy things and hard things possible.\n",
    "\n",
    "##### 1.2.3 Seaborn\n",
    "\n",
    "Seaborn is a Python data visualization library based on matplotlib. It provides a high-level interface for drawing attractive and informative statistical graphics."
   ]
  },
  {
   "cell_type": "markdown",
   "metadata": {},
   "source": [
    "### 2. Loading Data"
   ]
  },
  {
   "cell_type": "code",
   "execution_count": 2,
   "metadata": {},
   "outputs": [],
   "source": [
    "data = pd.read_csv('food_hygiene_rating_data.csv',index_col=0)"
   ]
  },
  {
   "cell_type": "markdown",
   "metadata": {},
   "source": [
    "\n",
    "This dataset was gotten from:\n",
    "UK Food Hygiene Rating Data(London)|kaggle- Kaggle.com/datasets/datota/uk-food-hygiene-rating-data-london"
   ]
  },
  {
   "cell_type": "markdown",
   "metadata": {},
   "source": [
    "\n",
    "### 3. Analysis and Visualizations\n",
    "\n",
    "Let's start with seperating the Rated data from the Unrated data\n"
   ]
  },
  {
   "cell_type": "code",
   "execution_count": 3,
   "metadata": {},
   "outputs": [],
   "source": [
    "unrated = ['AwaitingInspection','AwaitingPublication','Exempt']\n",
    "data_unrated= data[data['RatingValue'].isin(unrated)]"
   ]
  },
  {
   "cell_type": "code",
   "execution_count": 4,
   "metadata": {},
   "outputs": [],
   "source": [
    "rated = ['5','4','3','2','1','0']\n",
    "data_rated = data[data['RatingValue'].isin(rated)]"
   ]
  },
  {
   "cell_type": "markdown",
   "metadata": {},
   "source": [
    "#### 3.1 Shape:\n",
    "Focusing on the Rated data"
   ]
  },
  {
   "cell_type": "code",
   "execution_count": 5,
   "metadata": {},
   "outputs": [
    {
     "name": "stdout",
     "output_type": "stream",
     "text": [
      "Shape of the data: (20842, 12)\n",
      "There are 20842 rows in the rated data.\n"
     ]
    }
   ],
   "source": [
    "print(f'Shape of the data: {data_rated.shape}')\n",
    "print(f'There are {data_rated.shape[0]} rows in the rated data.')"
   ]
  },
  {
   "cell_type": "code",
   "execution_count": 6,
   "metadata": {
    "scrolled": true
   },
   "outputs": [
    {
     "data": {
      "text/html": [
       "<div>\n",
       "<style scoped>\n",
       "    .dataframe tbody tr th:only-of-type {\n",
       "        vertical-align: middle;\n",
       "    }\n",
       "\n",
       "    .dataframe tbody tr th {\n",
       "        vertical-align: top;\n",
       "    }\n",
       "\n",
       "    .dataframe thead th {\n",
       "        text-align: right;\n",
       "    }\n",
       "</style>\n",
       "<table border=\"1\" class=\"dataframe\">\n",
       "  <thead>\n",
       "    <tr style=\"text-align: right;\">\n",
       "      <th></th>\n",
       "      <th>FHRSID</th>\n",
       "      <th>LocalAuthorityBusinessID</th>\n",
       "      <th>BusinessName</th>\n",
       "      <th>BusinessType</th>\n",
       "      <th>PostCode</th>\n",
       "      <th>RatingValue</th>\n",
       "      <th>RatingKey</th>\n",
       "      <th>RatingDate</th>\n",
       "      <th>LocalAuthorityCode</th>\n",
       "      <th>LocalAuthorityName</th>\n",
       "      <th>Longitude</th>\n",
       "      <th>Latitude</th>\n",
       "    </tr>\n",
       "  </thead>\n",
       "  <tbody>\n",
       "    <tr>\n",
       "      <th>0</th>\n",
       "      <td>1438654</td>\n",
       "      <td>21/00856/FOOD</td>\n",
       "      <td>1st Base Catering</td>\n",
       "      <td>Mobile caterer</td>\n",
       "      <td>E20 2ST</td>\n",
       "      <td>AwaitingInspection</td>\n",
       "      <td>fhrs_awaitinginspection_en-GB</td>\n",
       "      <td>NaN</td>\n",
       "      <td>525</td>\n",
       "      <td>Newham</td>\n",
       "      <td>-0.018066</td>\n",
       "      <td>51.538799</td>\n",
       "    </tr>\n",
       "    <tr>\n",
       "      <th>1</th>\n",
       "      <td>1132140</td>\n",
       "      <td>19/00459/FOOD</td>\n",
       "      <td>53.5 Degrees</td>\n",
       "      <td>Restaurant/Cafe/Canteen</td>\n",
       "      <td>E16 2RD</td>\n",
       "      <td>5</td>\n",
       "      <td>fhrs_5_en-GB</td>\n",
       "      <td>2019-05-10</td>\n",
       "      <td>525</td>\n",
       "      <td>Newham</td>\n",
       "      <td>0.064757</td>\n",
       "      <td>51.507405</td>\n",
       "    </tr>\n",
       "    <tr>\n",
       "      <th>2</th>\n",
       "      <td>1132134</td>\n",
       "      <td>19/00447/FOOD</td>\n",
       "      <td>53.5 Degrees</td>\n",
       "      <td>Restaurant/Cafe/Canteen</td>\n",
       "      <td>E15 4LZ</td>\n",
       "      <td>5</td>\n",
       "      <td>fhrs_5_en-GB</td>\n",
       "      <td>2019-05-14</td>\n",
       "      <td>525</td>\n",
       "      <td>Newham</td>\n",
       "      <td>0.009809</td>\n",
       "      <td>51.543395</td>\n",
       "    </tr>\n",
       "    <tr>\n",
       "      <th>3</th>\n",
       "      <td>1260384</td>\n",
       "      <td>20/00288/FOOD</td>\n",
       "      <td>55 Square Limited</td>\n",
       "      <td>Restaurant/Cafe/Canteen</td>\n",
       "      <td>E16 1EN</td>\n",
       "      <td>2</td>\n",
       "      <td>fhrs_2_en-GB</td>\n",
       "      <td>2020-12-09</td>\n",
       "      <td>525</td>\n",
       "      <td>Newham</td>\n",
       "      <td>0.012417</td>\n",
       "      <td>51.517514</td>\n",
       "    </tr>\n",
       "    <tr>\n",
       "      <th>4</th>\n",
       "      <td>1389145</td>\n",
       "      <td>21/00354/FOOD</td>\n",
       "      <td>7 Mamas Ltd</td>\n",
       "      <td>Takeaway/sandwich shop</td>\n",
       "      <td>E6 3HN</td>\n",
       "      <td>5</td>\n",
       "      <td>fhrs_5_en-GB</td>\n",
       "      <td>2022-01-05</td>\n",
       "      <td>525</td>\n",
       "      <td>Newham</td>\n",
       "      <td>0.055372</td>\n",
       "      <td>51.527803</td>\n",
       "    </tr>\n",
       "  </tbody>\n",
       "</table>\n",
       "</div>"
      ],
      "text/plain": [
       "    FHRSID LocalAuthorityBusinessID       BusinessName  \\\n",
       "0  1438654            21/00856/FOOD  1st Base Catering   \n",
       "1  1132140            19/00459/FOOD       53.5 Degrees   \n",
       "2  1132134            19/00447/FOOD       53.5 Degrees   \n",
       "3  1260384            20/00288/FOOD  55 Square Limited   \n",
       "4  1389145            21/00354/FOOD        7 Mamas Ltd   \n",
       "\n",
       "              BusinessType PostCode         RatingValue  \\\n",
       "0           Mobile caterer  E20 2ST  AwaitingInspection   \n",
       "1  Restaurant/Cafe/Canteen  E16 2RD                   5   \n",
       "2  Restaurant/Cafe/Canteen  E15 4LZ                   5   \n",
       "3  Restaurant/Cafe/Canteen  E16 1EN                   2   \n",
       "4   Takeaway/sandwich shop   E6 3HN                   5   \n",
       "\n",
       "                       RatingKey  RatingDate  LocalAuthorityCode  \\\n",
       "0  fhrs_awaitinginspection_en-GB         NaN                 525   \n",
       "1                   fhrs_5_en-GB  2019-05-10                 525   \n",
       "2                   fhrs_5_en-GB  2019-05-14                 525   \n",
       "3                   fhrs_2_en-GB  2020-12-09                 525   \n",
       "4                   fhrs_5_en-GB  2022-01-05                 525   \n",
       "\n",
       "  LocalAuthorityName  Longitude   Latitude  \n",
       "0             Newham  -0.018066  51.538799  \n",
       "1             Newham   0.064757  51.507405  \n",
       "2             Newham   0.009809  51.543395  \n",
       "3             Newham   0.012417  51.517514  \n",
       "4             Newham   0.055372  51.527803  "
      ]
     },
     "execution_count": 6,
     "metadata": {},
     "output_type": "execute_result"
    }
   ],
   "source": [
    "data.head()"
   ]
  },
  {
   "cell_type": "markdown",
   "metadata": {},
   "source": [
    "#### 3.2 Data Types:\n",
    "\n",
    "let's understand the data types of various attributes.\n"
   ]
  },
  {
   "cell_type": "code",
   "execution_count": 7,
   "metadata": {},
   "outputs": [
    {
     "name": "stdout",
     "output_type": "stream",
     "text": [
      "<class 'pandas.core.frame.DataFrame'>\n",
      "Int64Index: 20842 entries, 1 to 1078\n",
      "Data columns (total 12 columns):\n",
      " #   Column                    Non-Null Count  Dtype  \n",
      "---  ------                    --------------  -----  \n",
      " 0   FHRSID                    20842 non-null  int64  \n",
      " 1   LocalAuthorityBusinessID  20842 non-null  object \n",
      " 2   BusinessName              20842 non-null  object \n",
      " 3   BusinessType              20842 non-null  object \n",
      " 4   PostCode                  20842 non-null  object \n",
      " 5   RatingValue               20842 non-null  object \n",
      " 6   RatingKey                 20842 non-null  object \n",
      " 7   RatingDate                20842 non-null  object \n",
      " 8   LocalAuthorityCode        20842 non-null  int64  \n",
      " 9   LocalAuthorityName        20842 non-null  object \n",
      " 10  Longitude                 20842 non-null  float64\n",
      " 11  Latitude                  20842 non-null  float64\n",
      "dtypes: float64(2), int64(2), object(8)\n",
      "memory usage: 2.1+ MB\n"
     ]
    }
   ],
   "source": [
    "data_rated.info()"
   ]
  },
  {
   "cell_type": "code",
   "execution_count": 9,
   "metadata": {},
   "outputs": [
    {
     "data": {
      "text/plain": [
       "Index(['FHRSID', 'LocalAuthorityBusinessID', 'BusinessName', 'BusinessType',\n",
       "       'PostCode', 'RatingValue', 'RatingKey', 'RatingDate',\n",
       "       'LocalAuthorityCode', 'LocalAuthorityName', 'Longitude', 'Latitude'],\n",
       "      dtype='object')"
      ]
     },
     "execution_count": 9,
     "metadata": {},
     "output_type": "execute_result"
    }
   ],
   "source": [
    "\n",
    "data_rated.columns"
   ]
  },
  {
   "cell_type": "code",
   "execution_count": 10,
   "metadata": {},
   "outputs": [
    {
     "data": {
      "text/plain": [
       "['0', '1', '2', '3', '4', '5']"
      ]
     },
     "execution_count": 10,
     "metadata": {},
     "output_type": "execute_result"
    }
   ],
   "source": [
    "#unique Rating values for rated data\n",
    "sorted(data_rated['RatingValue'].unique())"
   ]
  },
  {
   "cell_type": "markdown",
   "metadata": {},
   "source": [
    "\n",
    "##### We noticed the rating values having 6 unique values for a rated data which are futher explained as:\n",
    "\n",
    "starting from 5-0\n",
    "\n",
    "5 – Hygiene standards are very good\n",
    "\n",
    "4 – Hygiene standards are good\n",
    "\n",
    "3 – Hygiene standards are generally satisfactory\n",
    "\n",
    "2 – Some improvement is necessary\n",
    "\n",
    "1 – Major improvement is necessary\n",
    "\n",
    "0 – Urgent improvement is required\n"
   ]
  },
  {
   "cell_type": "markdown",
   "metadata": {},
   "source": [
    "\n",
    "#### 3.3 data cleaning"
   ]
  },
  {
   "cell_type": "code",
   "execution_count": 11,
   "metadata": {},
   "outputs": [
    {
     "data": {
      "text/plain": [
       "FHRSID                      0\n",
       "LocalAuthorityBusinessID    0\n",
       "BusinessName                0\n",
       "BusinessType                0\n",
       "PostCode                    0\n",
       "RatingValue                 0\n",
       "RatingKey                   0\n",
       "RatingDate                  0\n",
       "LocalAuthorityCode          0\n",
       "LocalAuthorityName          0\n",
       "Longitude                   0\n",
       "Latitude                    0\n",
       "dtype: int64"
      ]
     },
     "execution_count": 11,
     "metadata": {},
     "output_type": "execute_result"
    }
   ],
   "source": [
    "data_rated.isnull().sum()"
   ]
  },
  {
   "cell_type": "markdown",
   "metadata": {},
   "source": [
    "There is no missing data in this DataFrame"
   ]
  },
  {
   "cell_type": "markdown",
   "metadata": {},
   "source": [
    "\n",
    "#### 3.4  Summary and Distribution of categorical attributes:\n",
    "Let's explore the distribution of categorical variables: RatingValues, BusinessName, BusinessType, LocalAuthorityName."
   ]
  },
  {
   "cell_type": "markdown",
   "metadata": {},
   "source": [
    "\n",
    "##### 3.4.1 Total count of unique rating values over the years"
   ]
  },
  {
   "cell_type": "code",
   "execution_count": 25,
   "metadata": {
    "scrolled": true
   },
   "outputs": [
    {
     "data": {
      "text/plain": [
       "Text(0.5, 1.0, 'Total count of Rating values over the years')"
      ]
     },
     "execution_count": 25,
     "metadata": {},
     "output_type": "execute_result"
    },
    {
     "data": {
      "image/png": "[encoded data removed]",
      "text/plain": [
       "<Figure size 576x288 with 1 Axes>"
      ]
     },
     "metadata": {},
     "output_type": "display_data"
    }
   ],
   "source": [
    "fig, ax = plt.subplots(figsize=(8,4))\n",
    "sns.set_style('darkgrid')\n",
    "my_palette =['#468ED1']\n",
    "sns.countplot(data=data_rated, x='RatingValue',color='#BBC3CB',palette=my_palette,ax=ax)\n",
    "ax.tick_params( colors='#5F6D7A') \n",
    "ax.set_title('Total count of Rating values over the years',color='#5F6D7A')\n"
   ]
  },
  {
   "cell_type": "markdown",
   "metadata": {},
   "source": [
    "##### fig -1\n",
    "\n",
    "From our Count plot we saw that Most of the food services were rated 5(Hygiene standard are very good) over the years"
   ]
  },
  {
   "cell_type": "code",
   "execution_count": 13,
   "metadata": {},
   "outputs": [
    {
     "name": "stderr",
     "output_type": "stream",
     "text": [
      "C:\\Users\\USER\\anaconda3\\lib\\site-packages\\ipykernel_launcher.py:2: SettingWithCopyWarning: \n",
      "A value is trying to be set on a copy of a slice from a DataFrame.\n",
      "Try using .loc[row_indexer,col_indexer] = value instead\n",
      "\n",
      "See the caveats in the documentation: https://pandas.pydata.org/pandas-docs/stable/user_guide/indexing.html#returning-a-view-versus-a-copy\n",
      "  \n"
     ]
    }
   ],
   "source": [
    "#creating a new column for year seperating it from Ratingdate to ease our visualization\n",
    "data_rated['year']=pd.DatetimeIndex(data_rated['RatingDate']).year"
   ]
  },
  {
   "cell_type": "code",
   "execution_count": 14,
   "metadata": {},
   "outputs": [
    {
     "data": {
      "text/plain": [
       "array([2019, 2020, 2022, 2018, 2021, 2017, 2015, 2016, 2012, 2013, 2014,\n",
       "       2010, 2008, 2011, 2002, 2009, 2007], dtype=int64)"
      ]
     },
     "execution_count": 14,
     "metadata": {},
     "output_type": "execute_result"
    }
   ],
   "source": [
    "data_rated['year'].unique()"
   ]
  },
  {
   "cell_type": "markdown",
   "metadata": {},
   "source": [
    "\n",
    "##### 3.4.2 Rating Values from (2019-2020)\n",
    "Visual of Rating values before and after covid 19 pandemic"
   ]
  },
  {
   "cell_type": "code",
   "execution_count": 15,
   "metadata": {},
   "outputs": [
    {
     "data": {
      "text/plain": [
       "Text(0.5, 1.0, 'Unique Rating values in ( 2019, 2020, 2021)')"
      ]
     },
     "execution_count": 15,
     "metadata": {},
     "output_type": "execute_result"
    },
    {
     "data": {
      "image/png": "[encoded data removed]",
      "text/plain": [
       "<Figure size 576x288 with 1 Axes>"
      ]
     },
     "metadata": {},
     "output_type": "display_data"
    }
   ],
   "source": [
    "C_year = ['2019','2020','2021']\n",
    "covid19= data_rated[data_rated['year'].isin(C_year)]\n",
    "\n",
    "#distinct = {'5':'#468ED1','4':'#4682B4','3':'#4682B4','2':'#4682B4','1':'#4682B4','0':'#4682B4'}\n",
    "\n",
    "fig, ax = plt.subplots(figsize=(8,4))\n",
    "sns.set_style('darkgrid')\n",
    "\n",
    "sns.countplot(data=covid19, x='year',hue='RatingValue',color='#468ED1',ax=ax)\n",
    "ax.tick_params( colors='#5F6D7A') \n",
    "ax.set_title('Unique Rating values in ( 2019, 2020, 2021)',color='#5F6D7A')\n",
    "\n"
   ]
  },
  {
   "cell_type": "markdown",
   "metadata": {},
   "source": [
    "##### fig-2 \n",
    "\n",
    "From our visuals we can see that most business were not rated in 2020 because of the pandemic as follow by the FHRS guidiance book in section 2 A17:\n",
    "\n",
    ". If the establishment has been closed (either through formal action or \n",
    "voluntarily) because of an imminent risk to public health, it should not have a \n",
    "food hygiene rating whilst it remains closed.\n"
   ]
  },
  {
   "cell_type": "markdown",
   "metadata": {},
   "source": [
    "\n",
    "##### 3.4.3 total counts of different business types rated over the years"
   ]
  },
  {
   "cell_type": "code",
   "execution_count": 16,
   "metadata": {},
   "outputs": [
    {
     "data": {
      "text/plain": [
       "Text(0.5, 1.0, 'BusinessTypes by Total RatingValue over Years')"
      ]
     },
     "execution_count": 16,
     "metadata": {},
     "output_type": "execute_result"
    },
    {
     "data": {
      "image/png": "[encoded data removed]",
      "text/plain": [
       "<Figure size 576x288 with 1 Axes>"
      ]
     },
     "metadata": {},
     "output_type": "display_data"
    }
   ],
   "source": [
    "fig, ax = plt.subplots(figsize=(8,4))\n",
    "sns.set_style('darkgrid')\n",
    "my_palette =['#468ED1']\n",
    "sns.countplot(data=data_rated, y='BusinessType',color='#BBC3CB',palette=my_palette,ax=ax,order=data_rated['BusinessType'].value_counts().index)\n",
    "ax.tick_params( colors='#5F6D7A') \n",
    "ax.set_title('BusinessTypes by Total RatingValue over Years',color='#5F6D7A')\n"
   ]
  },
  {
   "cell_type": "markdown",
   "metadata": {},
   "source": [
    "##### fig-3 \n",
    "\n",
    "Over the years the main aim of FSA(Food Standard Agency) are to rate Businesses that supply food directly to the consumers.\n",
    "In this figure above we noticed some business types are rated than others for example;\n",
    "\n",
    "Farmers/growers, Importers/Exporters, Distributors/Transporters, Manufacturers/packers, Hotel/bed & breakfast/guest house all had a very low count of Rating. \n",
    "Reasons being that some of the businesses don't supply food directly to the the consumers which are labelled (Low Risk Establishment) except for those that do. \n",
    "\n",
    "like whereas supermarket,manufacturer e.t.c. having in-house bakery,in-house butchers or in-house coffee e.t.c are to be rated and we be consider in the scope of the scheme"
   ]
  },
  {
   "cell_type": "markdown",
   "metadata": {},
   "source": [
    "\n",
    "##### 3.4.4 count of ratings done by different Local Authorities over the years"
   ]
  },
  {
   "cell_type": "code",
   "execution_count": 17,
   "metadata": {
    "scrolled": true
   },
   "outputs": [
    {
     "data": {
      "text/plain": [
       "Text(0.5, 1.0, 'Local Authority by Total RatingValue over the Years')"
      ]
     },
     "execution_count": 17,
     "metadata": {},
     "output_type": "execute_result"
    },
    {
     "data": {
      "image/png": "[encoded data removed]",
      "text/plain": [
       "<Figure size 576x288 with 1 Axes>"
      ]
     },
     "metadata": {},
     "output_type": "display_data"
    }
   ],
   "source": [
    "fig, ax = plt.subplots(figsize=(8,4))\n",
    "sns.set_style('darkgrid')\n",
    "my_palette =['#468ED1']\n",
    "sns.countplot(data=data_rated, y='LocalAuthorityName',color='#BBC3CB',palette=my_palette,ax=ax,order=data_rated['LocalAuthorityName'].value_counts().index)\n",
    "ax.tick_params( colors='#5F6D7A') \n",
    "ax.set_title('Local Authority by Total RatingValue over the Years',color='#5F6D7A')\n"
   ]
  },
  {
   "cell_type": "markdown",
   "metadata": {},
   "source": [
    "##### fig-4 \n",
    "From this figure it shows that some local authorities are not consistent we the rating scheme while others are doing a very great job like Camden,Southwark,Hackney e.t.c., and out of the least counts some of them just joined the FHRS "
   ]
  },
  {
   "cell_type": "markdown",
   "metadata": {},
   "source": [
    "\n",
    "##### 3.4.5 Analysis and visuals of the Local Authorities with their total counts of  Ratings done in 2021\n",
    "\n",
    "Let,s study Ratings in year(2021)"
   ]
  },
  {
   "cell_type": "code",
   "execution_count": 18,
   "metadata": {},
   "outputs": [],
   "source": [
    "#filtering\n",
    "m_year = ['2021']\n",
    "H_rated = ['5']\n",
    "L_rated = ['0']\n",
    "year_2021 = data_rated[data_rated['year'].isin(m_year)]\n"
   ]
  },
  {
   "cell_type": "code",
   "execution_count": 19,
   "metadata": {},
   "outputs": [
    {
     "data": {
      "text/html": [
       "<div>\n",
       "<style scoped>\n",
       "    .dataframe tbody tr th:only-of-type {\n",
       "        vertical-align: middle;\n",
       "    }\n",
       "\n",
       "    .dataframe tbody tr th {\n",
       "        vertical-align: top;\n",
       "    }\n",
       "\n",
       "    .dataframe thead th {\n",
       "        text-align: right;\n",
       "    }\n",
       "</style>\n",
       "<table border=\"1\" class=\"dataframe\">\n",
       "  <thead>\n",
       "    <tr style=\"text-align: right;\">\n",
       "      <th></th>\n",
       "      <th>LocalAuthorityName</th>\n",
       "      <th>count</th>\n",
       "    </tr>\n",
       "  </thead>\n",
       "  <tbody>\n",
       "    <tr>\n",
       "      <th>23</th>\n",
       "      <td>Waltham Forest</td>\n",
       "      <td>949</td>\n",
       "    </tr>\n",
       "    <tr>\n",
       "      <th>21</th>\n",
       "      <td>Southwark</td>\n",
       "      <td>862</td>\n",
       "    </tr>\n",
       "    <tr>\n",
       "      <th>9</th>\n",
       "      <td>Greenwich</td>\n",
       "      <td>674</td>\n",
       "    </tr>\n",
       "    <tr>\n",
       "      <th>13</th>\n",
       "      <td>Hillingdon</td>\n",
       "      <td>608</td>\n",
       "    </tr>\n",
       "    <tr>\n",
       "      <th>10</th>\n",
       "      <td>Hackney</td>\n",
       "      <td>581</td>\n",
       "    </tr>\n",
       "  </tbody>\n",
       "</table>\n",
       "</div>"
      ],
      "text/plain": [
       "   LocalAuthorityName  count\n",
       "23     Waltham Forest    949\n",
       "21          Southwark    862\n",
       "9           Greenwich    674\n",
       "13         Hillingdon    608\n",
       "10            Hackney    581"
      ]
     },
     "execution_count": 19,
     "metadata": {},
     "output_type": "execute_result"
    }
   ],
   "source": [
    "LAN_2021=year_2021.groupby('LocalAuthorityName')['BusinessName'].count().reset_index(name = 'count').sort_values(['count'],ascending=False)\n",
    "LAN_2021.head()"
   ]
  },
  {
   "cell_type": "code",
   "execution_count": 20,
   "metadata": {},
   "outputs": [
    {
     "data": {
      "text/plain": [
       "Text(0.5, 1.0, 'Top 5 counts of Rating by Local Authority in 2021')"
      ]
     },
     "execution_count": 20,
     "metadata": {},
     "output_type": "execute_result"
    },
    {
     "data": {
      "image/png": "[encoded data removed]",
      "text/plain": [
       "<Figure size 576x288 with 1 Axes>"
      ]
     },
     "metadata": {},
     "output_type": "display_data"
    }
   ],
   "source": [
    "fig, ax = plt.subplots(figsize=(8,4))\n",
    "\n",
    "count5= ['Greenwich','Southwark','Waltham Forest','Hillingdon','Hackney']\n",
    "total_rate_2021 = year_2021[year_2021['LocalAuthorityName'].isin(count5)]\n",
    "\n",
    "sns.countplot(data= total_rate_2021, y='LocalAuthorityName',color='#BBC3CB',palette=my_palette,ax=ax,order=total_rate_2021['LocalAuthorityName'].value_counts().index)\n",
    "ax.tick_params( colors='#5F6D7A') \n",
    "ax.set_title('Top 5 counts of Rating by Local Authority in 2021',color='#5F6D7A')\n"
   ]
  },
  {
   "cell_type": "markdown",
   "metadata": {},
   "source": [
    "\n",
    "##### 3.4.6 Analysis and visuals of top and bottom Local Authorities by highest and lowest Ratings (5,0) in 2021"
   ]
  },
  {
   "cell_type": "code",
   "execution_count": 21,
   "metadata": {},
   "outputs": [
    {
     "data": {
      "text/html": [
       "<div>\n",
       "<style scoped>\n",
       "    .dataframe tbody tr th:only-of-type {\n",
       "        vertical-align: middle;\n",
       "    }\n",
       "\n",
       "    .dataframe tbody tr th {\n",
       "        vertical-align: top;\n",
       "    }\n",
       "\n",
       "    .dataframe thead th {\n",
       "        text-align: right;\n",
       "    }\n",
       "</style>\n",
       "<table border=\"1\" class=\"dataframe\">\n",
       "  <thead>\n",
       "    <tr style=\"text-align: right;\">\n",
       "      <th></th>\n",
       "      <th>LocalAuthorityName</th>\n",
       "      <th>count</th>\n",
       "    </tr>\n",
       "  </thead>\n",
       "  <tbody>\n",
       "    <tr>\n",
       "      <th>9</th>\n",
       "      <td>Greenwich</td>\n",
       "      <td>525</td>\n",
       "    </tr>\n",
       "    <tr>\n",
       "      <th>21</th>\n",
       "      <td>Southwark</td>\n",
       "      <td>474</td>\n",
       "    </tr>\n",
       "    <tr>\n",
       "      <th>23</th>\n",
       "      <td>Waltham Forest</td>\n",
       "      <td>451</td>\n",
       "    </tr>\n",
       "    <tr>\n",
       "      <th>13</th>\n",
       "      <td>Hillingdon</td>\n",
       "      <td>354</td>\n",
       "    </tr>\n",
       "    <tr>\n",
       "      <th>10</th>\n",
       "      <td>Hackney</td>\n",
       "      <td>313</td>\n",
       "    </tr>\n",
       "  </tbody>\n",
       "</table>\n",
       "</div>"
      ],
      "text/plain": [
       "   LocalAuthorityName  count\n",
       "9           Greenwich    525\n",
       "21          Southwark    474\n",
       "23     Waltham Forest    451\n",
       "13         Hillingdon    354\n",
       "10            Hackney    313"
      ]
     },
     "execution_count": 21,
     "metadata": {},
     "output_type": "execute_result"
    }
   ],
   "source": [
    "# getting count of the highest rating in 2021\n",
    "high_rate_2021 = year_2021[year_2021['RatingValue'].isin(H_rated)]\n",
    "H_rated_LAN_2021=high_rate_2021.groupby('LocalAuthorityName')['BusinessName'].count().reset_index(name = 'count').sort_values(['count'],ascending=False)\n",
    "H_rated_LAN_2021.head()"
   ]
  },
  {
   "cell_type": "markdown",
   "metadata": {},
   "source": [
    "\n",
    "Top 5 Local Authorities with the highest rating count"
   ]
  },
  {
   "cell_type": "code",
   "execution_count": 22,
   "metadata": {},
   "outputs": [
    {
     "data": {
      "text/plain": [
       "Text(0.5, 1.0, 'Top 5 Local Authority by highest RatingValue in 2021')"
      ]
     },
     "execution_count": 22,
     "metadata": {},
     "output_type": "execute_result"
    },
    {
     "data": {
      "image/png": "[encoded data removed]",
      "text/plain": [
       "<Figure size 576x288 with 1 Axes>"
      ]
     },
     "metadata": {},
     "output_type": "display_data"
    }
   ],
   "source": [
    "fig, ax = plt.subplots(figsize=(8,4))\n",
    "\n",
    "top5= ['Greenwich','Southwark','Waltham Forest','Hillingdon','Hackney']\n",
    "top_H_rated = high_rate_2021[high_rate_2021['LocalAuthorityName'].isin(top5)]\n",
    "\n",
    "sns.countplot(data= top_H_rated, y='LocalAuthorityName',color='#BBC3CB',palette=my_palette,ax=ax,order=top_H_rated['LocalAuthorityName'].value_counts().index)\n",
    "ax.tick_params( colors='#5F6D7A') \n",
    "ax.set_title('Top 5 Local Authority by highest RatingValue in 2021',color='#5F6D7A')\n"
   ]
  },
  {
   "cell_type": "markdown",
   "metadata": {},
   "source": [
    "##### fig-5\n",
    "graphical representation of Top 5 highest rating in 2021\n"
   ]
  },
  {
   "cell_type": "code",
   "execution_count": 23,
   "metadata": {},
   "outputs": [
    {
     "data": {
      "text/html": [
       "<div>\n",
       "<style scoped>\n",
       "    .dataframe tbody tr th:only-of-type {\n",
       "        vertical-align: middle;\n",
       "    }\n",
       "\n",
       "    .dataframe tbody tr th {\n",
       "        vertical-align: top;\n",
       "    }\n",
       "\n",
       "    .dataframe thead th {\n",
       "        text-align: right;\n",
       "    }\n",
       "</style>\n",
       "<table border=\"1\" class=\"dataframe\">\n",
       "  <thead>\n",
       "    <tr style=\"text-align: right;\">\n",
       "      <th></th>\n",
       "      <th>LocalAuthorityName</th>\n",
       "      <th>count</th>\n",
       "    </tr>\n",
       "  </thead>\n",
       "  <tbody>\n",
       "    <tr>\n",
       "      <th>12</th>\n",
       "      <td>Waltham Forest</td>\n",
       "      <td>49</td>\n",
       "    </tr>\n",
       "    <tr>\n",
       "      <th>3</th>\n",
       "      <td>Ealing</td>\n",
       "      <td>11</td>\n",
       "    </tr>\n",
       "    <tr>\n",
       "      <th>2</th>\n",
       "      <td>Camden</td>\n",
       "      <td>7</td>\n",
       "    </tr>\n",
       "    <tr>\n",
       "      <th>4</th>\n",
       "      <td>Greenwich</td>\n",
       "      <td>5</td>\n",
       "    </tr>\n",
       "    <tr>\n",
       "      <th>0</th>\n",
       "      <td>Barking and Dagenham</td>\n",
       "      <td>4</td>\n",
       "    </tr>\n",
       "  </tbody>\n",
       "</table>\n",
       "</div>"
      ],
      "text/plain": [
       "      LocalAuthorityName  count\n",
       "12        Waltham Forest     49\n",
       "3                 Ealing     11\n",
       "2                 Camden      7\n",
       "4              Greenwich      5\n",
       "0   Barking and Dagenham      4"
      ]
     },
     "execution_count": 23,
     "metadata": {},
     "output_type": "execute_result"
    }
   ],
   "source": [
    "low_rate_2021 = year_2021[year_2021['RatingValue'].isin(L_rated)]\n",
    "L_rated_LAN_2021=low_rate_2021.groupby('LocalAuthorityName')['BusinessName'].count().reset_index(name = 'count').sort_values(['count'],ascending=False)\n",
    "L_rated_LAN_2021.head()"
   ]
  },
  {
   "cell_type": "markdown",
   "metadata": {},
   "source": [
    "Bottom 5 local Authorities with lowest ratings in 2021"
   ]
  },
  {
   "cell_type": "code",
   "execution_count": 24,
   "metadata": {},
   "outputs": [
    {
     "data": {
      "text/plain": [
       "Text(0.5, 1.0, 'Bottom 5 Local Authority by lowest RatingValue in 2021')"
      ]
     },
     "execution_count": 24,
     "metadata": {},
     "output_type": "execute_result"
    },
    {
     "data": {
      "image/png": "[encoded data removed]",
      "text/plain": [
       "<Figure size 576x288 with 1 Axes>"
      ]
     },
     "metadata": {},
     "output_type": "display_data"
    }
   ],
   "source": [
    "fig, ax = plt.subplots(figsize=(8,4))\n",
    "\n",
    "bottom5 = ['Waltham Forest','Ealing','Camden','Greenwich','Barking and Dagenham']\n",
    "Bottom_L_rated = low_rate_2021[low_rate_2021['LocalAuthorityName'].isin(bottom5)]\n",
    "\n",
    "sns.countplot(data=Bottom_L_rated, y='LocalAuthorityName',color='#BBC3CB',palette=my_palette,ax=ax,order=Bottom_L_rated['LocalAuthorityName'].value_counts().index)\n",
    "ax.tick_params( colors='#5F6D7A') \n",
    "ax.set_title('Bottom 5 Local Authority by lowest RatingValue in 2021',color='#5F6D7A')\n"
   ]
  },
  {
   "cell_type": "markdown",
   "metadata": {},
   "source": [
    "##### fig- 6\n",
    "graphical representation of bottom 5 lowest rating in 2021 "
   ]
  },
  {
   "cell_type": "markdown",
   "metadata": {},
   "source": [
    "\n",
    "### 4. Summary and Conclusions"
   ]
  },
  {
   "cell_type": "markdown",
   "metadata": {},
   "source": [
    "\n",
    "The analysis done here are Descriptive analysis ( identifying what has already happened) and Dagnostic analysis (focuses on understanding why something has happened)\n",
    "\n",
    "The Scheme is not compulsory, Local authorities can join and can stop agreement at anytime but they have to clear all ratings within 2 weeks from their websites .\n",
    "\n",
    "Based on my analysis we can see some Local Authorities are doing a very great job supporting the FHRS they also deserved Awards like (Greenwich, Southwark , Waltham e.t.c) for not endangering theirs citizens to food poisoning , poor hygiene environmental or any Hygiene related sickness .\n",
    "\n",
    "Because the aim is to ensure that where food business establishments \n",
    "are rated under the FHRS and where consumers see FHRS branding, they can be \n",
    "confident that the local authority is operating the FHRS as the Food Standards \n",
    "Agency (FSA) intends.  \n",
    "\n",
    "And for Local Authorities lagging in their inspection and those businesses having very low ratings should be investigated thoroughly to promote good hygiene and avoid food poisoning."
   ]
  },
  {
   "cell_type": "code",
   "execution_count": 26,
   "metadata": {},
   "outputs": [],
   "source": []
  },
  {
   "cell_type": "code",
   "execution_count": null,
   "metadata": {},
   "outputs": [],
   "source": []
  }
 ],
 "metadata": {
  "kernelspec": {
   "display_name": "Python 3",
   "language": "python",
   "name": "python3"
  },
  "language_info": {
   "codemirror_mode": {
    "name": "ipython",
    "version": 3
   },
   "file_extension": ".py",
   "mimetype": "text/x-python",
   "name": "python",
   "nbconvert_exporter": "python",
   "pygments_lexer": "ipython3",
   "version": "3.7.6"
  }
 },
 "nbformat": 4,
 "nbformat_minor": 4
}
